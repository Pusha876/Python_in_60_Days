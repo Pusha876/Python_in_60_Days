{
 "cells": [
  {
   "cell_type": "markdown",
   "id": "8f104330-bc8b-43a4-9086-3a15e3f21850",
   "metadata": {},
   "source": [
    "# Load the book"
   ]
  },
  {
   "cell_type": "code",
   "execution_count": 5,
   "id": "cb540c31-eb4e-4628-916a-1b4587b8dd06",
   "metadata": {},
   "outputs": [],
   "source": [
    "with open(\"miracle_in_the_andes.txt\", \"r\", encoding=\"utf-8\") as file:\n",
    "    book = file.read()"
   ]
  },
  {
   "cell_type": "code",
   "execution_count": 7,
   "id": "95a4a4e0-66e3-4cef-ae28-1f0725e96475",
   "metadata": {},
   "outputs": [
    {
     "data": {
      "text/plain": [
       "str"
      ]
     },
     "execution_count": 7,
     "metadata": {},
     "output_type": "execute_result"
    }
   ],
   "source": [
    "type(book)"
   ]
  },
  {
   "cell_type": "markdown",
   "id": "b7212c9c-042b-46ff-8822-d2f236739aaa",
   "metadata": {},
   "source": [
    "# How many chapters?"
   ]
  },
  {
   "cell_type": "markdown",
   "id": "e00c47e5-0ebf-4d81-ae2d-cc0ce0135c63",
   "metadata": {},
   "source": [
    "### With string methods"
   ]
  },
  {
   "cell_type": "code",
   "execution_count": 9,
   "id": "fe2e3401-401d-4c67-b681-beb1b60ef119",
   "metadata": {},
   "outputs": [
    {
     "data": {
      "text/plain": [
       "11"
      ]
     },
     "execution_count": 9,
     "metadata": {},
     "output_type": "execute_result"
    }
   ],
   "source": [
    "book.count(\"Chapter\")"
   ]
  },
  {
   "cell_type": "markdown",
   "id": "2008f861-ee30-417c-826b-29d6c6647e15",
   "metadata": {},
   "source": [
    "### With regex"
   ]
  },
  {
   "cell_type": "code",
   "execution_count": 10,
   "id": "489e0ddf-f248-4227-a22c-f1f88e8a634a",
   "metadata": {},
   "outputs": [],
   "source": [
    "import re"
   ]
  },
  {
   "cell_type": "code",
   "execution_count": 15,
   "id": "440669c7-874a-4f8b-998d-887105f82c16",
   "metadata": {},
   "outputs": [
    {
     "data": {
      "text/plain": [
       "10"
      ]
     },
     "execution_count": 15,
     "metadata": {},
     "output_type": "execute_result"
    }
   ],
   "source": [
    "pattern = re.compile(\"Chapter [0-9]+\")\n",
    "findings = re.findall(pattern, book)\n",
    "len(findings)"
   ]
  }
 ],
 "metadata": {
  "kernelspec": {
   "display_name": "Python 3 (ipykernel)",
   "language": "python",
   "name": "python3"
  },
  "language_info": {
   "codemirror_mode": {
    "name": "ipython",
    "version": 3
   },
   "file_extension": ".py",
   "mimetype": "text/x-python",
   "name": "python",
   "nbconvert_exporter": "python",
   "pygments_lexer": "ipython3",
   "version": "3.12.7"
  }
 },
 "nbformat": 4,
 "nbformat_minor": 5
}
